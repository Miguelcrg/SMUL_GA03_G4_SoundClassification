{
 "cells": [
  {
   "cell_type": "markdown",
   "metadata": {},
   "source": [
    "Import Modules for Zero Shot Classification"
   ]
  },
  {
   "cell_type": "code",
   "execution_count": 1,
   "metadata": {},
   "outputs": [],
   "source": [
    "from msclap import CLAP\n",
    "import torch.nn.functional as F\n",
    "import pandas as pd\n",
    "import os"
   ]
  },
  {
   "cell_type": "markdown",
   "metadata": {},
   "source": [
    "Load and Initialize a CLAP model"
   ]
  },
  {
   "cell_type": "code",
   "execution_count": 2,
   "metadata": {},
   "outputs": [],
   "source": [
    "clap_model = CLAP(version = '2023', use_cuda=False)"
   ]
  },
  {
   "cell_type": "markdown",
   "metadata": {},
   "source": [
    "Set up Classes Labels and Audio Files Paths and Ground Truths"
   ]
  },
  {
   "cell_type": "code",
   "execution_count": 3,
   "metadata": {},
   "outputs": [
    {
     "name": "stdout",
     "output_type": "stream",
     "text": [
      "File: 4201-3-0-0.wav, Label: dog_bark, Label ID: 3\n"
     ]
    }
   ],
   "source": [
    "# Define class descriptions\n",
    "labels = [\n",
    "    \"air conditioner\",\n",
    "    \"car horn\",\n",
    "    \"children playing\",\n",
    "    \"dog bark\",\n",
    "    \"drilling\",\n",
    "    \"engine idling\",\n",
    "    \"gunshot\",\n",
    "    \"jackhammer\",\n",
    "    \"siren\",\n",
    "    \"street music\"]\n",
    "\n",
    "audio_paths = [\"../dataset/UrbanSound8K/audio/fold2/4201-3-0-0.wav\"]\n",
    "\n",
    "file_names = [os.path.basename(audio_path) for audio_path in audio_paths]\n",
    "\n",
    "# Load the metadata\n",
    "metadata_path = '../dataset/UrbanSound8K/metadata/UrbanSound8K.csv'\n",
    "metadata = pd.read_csv(metadata_path)\n",
    "\n",
    "# Find the row corresponding to the file\n",
    "file_metadatas = [metadata[metadata['slice_file_name'] == file_name] for file_name in file_names]\n",
    "\n",
    "true_label = []\n",
    "true_label_id = []\n",
    "\n",
    "for file_metadata, file_name in zip(file_metadatas, file_names):\n",
    "    if not file_metadata.empty:\n",
    "        true_label = file_metadata['class'].values[0]  # Human-readable label\n",
    "        true_label_id = file_metadata['classID'].values[0]  # Numerical label\n",
    "        print(f\"File: {file_name}, Label: {true_label}, Label ID: {true_label_id}\")\n",
    "    else:\n",
    "        print(f\"File: {file_name} not found in metadata.\")"
   ]
  },
  {
   "cell_type": "markdown",
   "metadata": {},
   "source": [
    "Get Audio and Test Embbedings"
   ]
  },
  {
   "cell_type": "code",
   "execution_count": 4,
   "metadata": {},
   "outputs": [],
   "source": [
    "audio_embeddings = clap_model.get_audio_embeddings(audio_paths)\n",
    "text_embeddings = clap_model.get_text_embeddings(labels)"
   ]
  },
  {
   "cell_type": "markdown",
   "metadata": {},
   "source": [
    "Calculate Similarities and Show Results"
   ]
  },
  {
   "cell_type": "code",
   "execution_count": 5,
   "metadata": {},
   "outputs": [
    {
     "name": "stdout",
     "output_type": "stream",
     "text": [
      "Ground truth: dog_bark\n",
      "Top predictions:\n",
      "        dog bark: 99.42%\n",
      "         gunshot: 0.37%\n",
      "           siren: 0.07%\n",
      " air conditioner: 0.05%\n",
      "      jackhammer: 0.04%\n"
     ]
    }
   ],
   "source": [
    "similarities = clap_model.compute_similarity(audio_embeddings, text_embeddings)\n",
    "\n",
    "similarity = F.softmax(similarities, dim=1)\n",
    "values, indices = similarity[0].topk(5)\n",
    "\n",
    "# Print the results\n",
    "print(f\"Ground truth: {true_label}\")\n",
    "print(\"Top predictions:\")\n",
    "for value, index in zip(values, indices):\n",
    "    print(f\"{labels[index]:>16s}: {100 * value.item():.2f}%\")"
   ]
  }
 ],
 "metadata": {
  "kernelspec": {
   "display_name": "clap_env",
   "language": "python",
   "name": "python3"
  },
  "language_info": {
   "codemirror_mode": {
    "name": "ipython",
    "version": 3
   },
   "file_extension": ".py",
   "mimetype": "text/x-python",
   "name": "python",
   "nbconvert_exporter": "python",
   "pygments_lexer": "ipython3",
   "version": "3.11.11"
  }
 },
 "nbformat": 4,
 "nbformat_minor": 2
}
